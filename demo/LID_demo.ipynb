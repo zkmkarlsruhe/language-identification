{
  "nbformat": 4,
  "nbformat_minor": 0,
  "metadata": {
    "colab": {
      "name": "LID_demo.ipynb",
      "provenance": [],
      "collapsed_sections": [],
      "toc_visible": true
    },
    "kernelspec": {
      "name": "python3",
      "display_name": "Python 3"
    },
    "language_info": {
      "name": "python"
    }
  },
  "cells": [
    {
      "cell_type": "code",
      "execution_count": null,
      "metadata": {
        "id": "dUoq6nLxcRTf"
      },
      "outputs": [],
      "source": [
        "#@title Copyright (c) 2021 ZKM | Karlsruhe. BSD Simplified License. { display-mode: \"form\" }\n",
        "\"\"\"\n",
        "Simplified BSD License\n",
        "\n",
        "Copyright (c) 2021 ZKM | Karlsruhe\n",
        "\n",
        "Redistribution and use in source and binary forms, with or without\n",
        "modification, are permitted provided that the following conditions are met:\n",
        "\n",
        "1. Redistributions of source code must retain the above copyright notice, \n",
        "this list of conditions and the following disclaimer.\n",
        "2. Redistributions in binary form must reproduce the above copyright notice, \n",
        "this list of conditions and the following disclaimer in the documentation \n",
        "and/or other materials provided with the distribution.\n",
        "\n",
        "THIS SOFTWARE IS PROVIDED BY THE COPYRIGHT HOLDERS AND CONTRIBUTORS \"AS IS\" AND\n",
        "ANY EXPRESS OR IMPLIED WARRANTIES, INCLUDING, BUT NOT LIMITED TO, THE IMPLIED \n",
        "WARRANTIES OF MERCHANTABILITY AND FITNESS FOR A PARTICULAR PURPOSE ARE \n",
        "DISCLAIMED. IN NO EVENT SHALL THE COPYRIGHT OWNER OR CONTRIBUTORS BE LIABLE FOR\n",
        "ANY DIRECT, INDIRECT, INCIDENTAL, SPECIAL, EXEMPLARY, OR CONSEQUENTIAL DAMAGES\n",
        "(INCLUDING, BUT NOT LIMITED TO, PROCUREMENT OF SUBSTITUTE GOODS OR SERVICES; \n",
        "LOSS OF USE, DATA, OR PROFITS; OR BUSINESS INTERRUPTION) HOWEVER CAUSED AND ON \n",
        "ANY THEORY OF LIABILITY, WHETHER IN CONTRACT, STRICT LIABILITY, OR TORT \n",
        "(INCLUDING NEGLIGENCE OR OTHERWISE) ARISING IN ANY WAY OUT OF THE USE OF THIS \n",
        "SOFTWARE, EVEN IF ADVISED OF THE POSSIBILITY OF SUCH DAMAGE.\n",
        "\"\"\""
      ]
    },
    {
      "cell_type": "markdown",
      "metadata": {
        "id": "_o3Qg4CPcbfL"
      },
      "source": [
        "# Spoken Language Identification Demonstration\n",
        "\n",
        "This python notebook was developed to be used in Google Colaboratory. It is a demonstration of our active research tackling the task of spoken language identification (LID) using Deep Learning. If you would like to know more about the training procedure please visit us on [GitHub](hhttps://github.com/zkmkarlsruhe/language-identification/).\n",
        "\n",
        "With this demonstration we will show you how to use our trained model. In essence we will run the following steps:\n",
        "- Download and load the SavedModel trained using the above repository\n",
        "- Access your microphone and record a snippet of 5 seconds\n",
        "- Process and finally classfiy the language of the recorded audio\n",
        "\n",
        "Our trained model is far from being perfect and fair. Please take a look at the caveats reported in our respository."
      ]
    },
    {
      "cell_type": "markdown",
      "metadata": {
        "id": "4X9uqhFHd-XU"
      },
      "source": [
        "<table class=\"tfo-notebook-buttons\" align=\"left\">\n",
        "  <td>\n",
        "    <a target=\"_blank\" href=\"https://colab.research.google.com/github/zkmkarlsruhe/language-identification/blob/main/demo/LID_demo.ipynb\"><img src=\"https://www.tensorflow.org/images/colab_logo_32px.png\" />Run in Google Colab</a>\n",
        "  </td>\n",
        "  <td>\n",
        "    <a target=\"_blank\" href=\"https://github.com/zkmkarlsruhe/language-identification/blob/main/demo/LID_demo.ipynb\"><img src=\"https://www.tensorflow.org/images/GitHub-Mark-32px.png\" />View on GitHub</a>\n",
        "  </td>\n",
        "</table>\n"
      ]
    },
    {
      "cell_type": "markdown",
      "metadata": {
        "id": "i7dDTxTHu2Ts"
      },
      "source": [
        "# Installs & Imports\n",
        "We begin this notebook by installing and importing the necessary libraries. Most notably, we need TensorFlow to infer the neural network and ffmpeg to access audio data from your microphone."
      ]
    },
    {
      "cell_type": "code",
      "execution_count": null,
      "metadata": {
        "id": "0I1cF5f1sEVn"
      },
      "outputs": [],
      "source": [
        "!pip install -q -U pip==20.2\n",
        "!pip install -q tensorflow\n",
        "!pip install -q ffmpeg-python\n",
        "\n",
        "import tensorflow as tf\n",
        "import numpy as np\n",
        "from tensorflow.keras.models import load_model\n",
        "from scipy.io.wavfile import read as wav_read\n",
        "from scipy.io.wavfile import write as wav_write\n"
      ]
    },
    {
      "cell_type": "markdown",
      "metadata": {
        "id": "IKmq1vztswsr"
      },
      "source": [
        "# Download, Unzip and Load the SavedModel\n",
        "Next, we will download and unzip the SavedModel stored in our cloud. Afterwards, we load the model.\n",
        "\n",
        "__Note:__ SavedModels do not only contain weights but also code! You should be careful when running such models. We hereby promise that we have created the model from scratch and did not include any malicious code."
      ]
    },
    {
      "cell_type": "code",
      "execution_count": null,
      "metadata": {
        "id": "heSj3ZuokZ8P"
      },
      "outputs": [],
      "source": [
        "!wget -q -O model \"https://cloud.zkm.de/index.php/s/83LwnXT9xDsyxGf/download?path=%2F&files=AttRnn7lang.zip\"\n",
        "!unzip -q -o model"
      ]
    },
    {
      "cell_type": "code",
      "execution_count": null,
      "metadata": {
        "id": "PCWKtggTnQZM"
      },
      "outputs": [],
      "source": [
        "model = load_model(\"AttRnn7lang/model_17\")"
      ]
    },
    {
      "cell_type": "markdown",
      "metadata": {
        "id": "taWZjzSnrfEE"
      },
      "source": [
        "The model we are using here was trained to detect noise and distinguish English, French, German and Spanish from one another. Below we define the function that interprets the result."
      ]
    },
    {
      "cell_type": "code",
      "execution_count": null,
      "metadata": {
        "id": "HmAKA-3avAGb"
      },
      "outputs": [],
      "source": [
        "def get_language(prediction):\n",
        "  index = tf.math.argmax(prediction).numpy()\n",
        "  options = {0: \"Noise\",\n",
        "             1: \"Chinese\",\n",
        "             2: \"English\",\n",
        "             3: \"French\",\n",
        "             4: \"German\",\n",
        "             5: \"Italian\",\n",
        "             6: \"Russian\",\n",
        "             7: \"Spanish\"}\n",
        "  return options[index]"
      ]
    },
    {
      "cell_type": "markdown",
      "metadata": {
        "id": "iB7fUO2grNfl"
      },
      "source": [
        "# Using the Microphone in Google Colab\n",
        "In this notebook we will access the microphone using JavaScript. \n",
        "This code snippet `Record Function Definition using JS` has been adapted from the following repositories:\n",
        "- https://gist.github.com/korakot/c21c3476c024ad6d56d5f48b0bca92be\n",
        "- https://ricardodeazambuja.com/deep_learning/2019/03/09/audio_and_video_google_colab/\n"
      ]
    },
    {
      "cell_type": "code",
      "execution_count": null,
      "metadata": {
        "id": "WUaI_7dn91PI"
      },
      "outputs": [],
      "source": [
        "#@title Record Function Definition using JS { display-mode: \"form\" }\n",
        "# all imports\n",
        "from IPython.display import Javascript, HTML, Audio\n",
        "from google.colab import output\n",
        "from base64 import b64decode\n",
        "from google.colab.output import eval_js\n",
        "import io\n",
        "import ffmpeg\n",
        "\n",
        "RECORD = \"\"\"\n",
        "const sleep  = time => new Promise(resolve => setTimeout(resolve, time))\n",
        "const b2text = blob => new Promise(resolve => {\n",
        "  const reader = new FileReader()\n",
        "  reader.onloadend = e => resolve(e.srcElement.result)\n",
        "  reader.readAsDataURL(blob)\n",
        "})\n",
        "var record = time => new Promise(async resolve => {\n",
        "  stream = await navigator.mediaDevices.getUserMedia({ audio: true })\n",
        "  recorder = new MediaRecorder(stream)\n",
        "  chunks = []\n",
        "  recorder.ondataavailable = e => chunks.push(e.data)\n",
        "  recorder.start()\n",
        "  await sleep(time)\n",
        "  recorder.onstop = async ()=>{\n",
        "    blob = new Blob(chunks)\n",
        "    text = await b2text(blob)\n",
        "    resolve(text)\n",
        "  }\n",
        "  recorder.stop()\n",
        "})\n",
        "\"\"\"\n",
        "\n",
        "def record(sec=3):\n",
        "  display(Javascript(RECORD))\n",
        "  data = output.eval_js('record(%d)' % (sec*1000))  \n",
        "  binary = b64decode(data.split(',')[1])\n",
        "  \n",
        "  process = (ffmpeg\n",
        "    .input('pipe:0')\n",
        "    .output('pipe:1', format='wav')\n",
        "    .run_async(pipe_stdin=True, pipe_stdout=True, pipe_stderr=True, quiet=True, overwrite_output=True)\n",
        "  )\n",
        "  out, err = process.communicate(input=binary)\n",
        "  \n",
        "  riff_chunk_size = len(out) - 8\n",
        "  # Break up the chunk size into four bytes, held in b.\n",
        "  q = riff_chunk_size\n",
        "  b = []\n",
        "  for i in range(4):\n",
        "      q, r = divmod(q, 256)\n",
        "      b.append(r)\n",
        "\n",
        "  # Replace bytes 4:8 in proc.stdout with the actual size of the RIFF chunk.\n",
        "  riff = out[:4] + bytes(b) + out[8:]\n",
        "\n",
        "  sr, audio = wav_read(io.BytesIO(riff))\n",
        "  return sr, audio  # or webm ?"
      ]
    },
    {
      "cell_type": "markdown",
      "metadata": {
        "id": "R5MTMrt9sYTG"
      },
      "source": [
        "Let's see if we can actually record a 5 second long audio piece. \n",
        "\n",
        "__Note:__ Please make sure to grant the necessary permissions."
      ]
    },
    {
      "cell_type": "code",
      "execution_count": 7,
      "metadata": {
        "colab": {
          "base_uri": "https://localhost:8080/",
          "height": 184
        },
        "id": "2lX1RQJd-KB5",
        "outputId": "1fb6fecd-b934-4a39-bbb7-d3717f7d99d0"
      },
      "outputs": [
        {
          "data": {
            "application/javascript": [
              "\n",
              "const sleep  = time => new Promise(resolve => setTimeout(resolve, time))\n",
              "const b2text = blob => new Promise(resolve => {\n",
              "  const reader = new FileReader()\n",
              "  reader.onloadend = e => resolve(e.srcElement.result)\n",
              "  reader.readAsDataURL(blob)\n",
              "})\n",
              "var record = time => new Promise(async resolve => {\n",
              "  stream = await navigator.mediaDevices.getUserMedia({ audio: true })\n",
              "  recorder = new MediaRecorder(stream)\n",
              "  chunks = []\n",
              "  recorder.ondataavailable = e => chunks.push(e.data)\n",
              "  recorder.start()\n",
              "  await sleep(time)\n",
              "  recorder.onstop = async ()=>{\n",
              "    blob = new Blob(chunks)\n",
              "    text = await b2text(blob)\n",
              "    resolve(text)\n",
              "  }\n",
              "  recorder.stop()\n",
              "})\n"
            ],
            "text/plain": [
              "<IPython.core.display.Javascript object>"
            ]
          },
          "metadata": {
            "tags": []
          },
          "output_type": "display_data"
        },
        {
          "data": {
            "image/png": "[encoded data removed]",
            "text/plain": [
              "<Figure size 360x180 with 1 Axes>"
            ]
          },
          "metadata": {
            "needs_background": "light",
            "tags": []
          },
          "output_type": "display_data"
        }
      ],
      "source": [
        "#@title Test, Safe and Plot\n",
        "sampling_rate, audio = record(5)\n",
        "\n",
        "wav_write ('audio.wav', sampling_rate, audio)\n",
        "\n",
        "import matplotlib.pyplot as plt\n",
        "plt.figure(figsize=(5,2.5))\n",
        "plt.plot(audio)\n",
        "plt.show()"
      ]
    },
    {
      "cell_type": "markdown",
      "metadata": {
        "id": "US1Oe8jgup5Y"
      },
      "source": [
        "# Define Preprocessing Functions\n",
        "\n",
        "In order to feed the neural network the audio we have to prepare it the same way as it was during training. Using the python package `kapre` we were able to include most of the preprocessing (e.g. computing the fourier transformation) into the SavedModel. The few things we still have to do are listed below:\n",
        "- Assure that the audio is sampled at 16kHz. In our setup we have noticed that the microphone was sampled at 48kHz. Therefore, we have to down-sample the audio piece. Try changing the value of `sample_rate` if this is different for you.\n",
        "- During training the audio was mapped into the range of 0.0 to 1.0. We can do so, by dividing the sample by the largest absolute value.\n",
        "- Next, we assure the length of the audio sample is padded or cut to exactly 5 seconds.\n",
        "- In the last two steps we make sure to match the expected shape. First we add a channel for kapre's STFT algorithm and finally we add a dimension for the batch. Both added dimensions will be of size one."
      ]
    },
    {
      "cell_type": "code",
      "execution_count": 18,
      "metadata": {
        "id": "3FwyMgJyoNgZ"
      },
      "outputs": [],
      "source": [
        "import scipy.signal as sps\n",
        "\n",
        "# input restrictions\n",
        "length_s = 5\n",
        "sample_rate = 48000\n",
        "target_sample_rate = 16000\n",
        "num_samples = length_s * target_sample_rate\n",
        "\n",
        "def down_sample(audio, sampling_rate=48000, target_rate=16000):\n",
        "  number_of_samples = round(len(audio) * float(target_rate) / sampling_rate)\n",
        "  audio = sps.resample(audio, number_of_samples)\n",
        "  return audio\n",
        "\n",
        "def normalize(signal):\n",
        "\tmaximum = max(abs(signal.max()), abs(signal.min()))\n",
        "\tif maximum == 0.0:\n",
        "\t\tprint(\"normalize: omitting to divide by zero!!\")\n",
        "\t\treturn signal\n",
        "\treturn signal / float(maximum)\n",
        " \n",
        "def pad_or_cut(data, max_len):\n",
        "  if len(data) == max_len:\n",
        "    return data\n",
        "  elif len(data) > max_len:\n",
        "    return data[:max_len]\n",
        "  else:\n",
        "    to_add = max(max_len - len(data), 0)\n",
        "    data = np.pad(data, (0, to_add), mode='constant', constant_values=0)\n",
        "    return data\n",
        "\n",
        "def pre_process(audio):\n",
        "  audio = down_sample(audio, sample_rate,\n",
        "                      target_sample_rate)     # input must be sampled at 16000kHz\n",
        "  audio = normalize(audio)                    # input range is floating point from 0 to 1\n",
        "  audio = pad_or_cut(audio, num_samples)      # input must be 80000\n",
        "  audio = tf.expand_dims(audio, -1)           # add a channel for stft\n",
        "  audio = tf.expand_dims(audio, 0)            # make it a batch\n",
        "  return audio"
      ]
    },
    {
      "cell_type": "markdown",
      "metadata": {
        "id": "Mzpwv3b5wLXz"
      },
      "source": [
        "# Record, Preprocess and Classify the Audio \n",
        "Now let's put everything together and see how good the model performs!\n",
        "\n",
        "__Note:__ run the next block multiple times to classify new recordings."
      ]
    },
    {
      "cell_type": "code",
      "execution_count": 19,
      "metadata": {
        "colab": {
          "base_uri": "https://localhost:8080/",
          "height": 52
        },
        "id": "fqHg-0xFokYU",
        "outputId": "e88522b3-fb6d-4311-9469-2fe768438f76"
      },
      "outputs": [
        {
          "data": {
            "application/javascript": [
              "\n",
              "const sleep  = time => new Promise(resolve => setTimeout(resolve, time))\n",
              "const b2text = blob => new Promise(resolve => {\n",
              "  const reader = new FileReader()\n",
              "  reader.onloadend = e => resolve(e.srcElement.result)\n",
              "  reader.readAsDataURL(blob)\n",
              "})\n",
              "var record = time => new Promise(async resolve => {\n",
              "  stream = await navigator.mediaDevices.getUserMedia({ audio: true })\n",
              "  recorder = new MediaRecorder(stream)\n",
              "  chunks = []\n",
              "  recorder.ondataavailable = e => chunks.push(e.data)\n",
              "  recorder.start()\n",
              "  await sleep(time)\n",
              "  recorder.onstop = async ()=>{\n",
              "    blob = new Blob(chunks)\n",
              "    text = await b2text(blob)\n",
              "    resolve(text)\n",
              "  }\n",
              "  recorder.stop()\n",
              "})\n"
            ],
            "text/plain": [
              "<IPython.core.display.Javascript object>"
            ]
          },
          "metadata": {
            "tags": []
          },
          "output_type": "display_data"
        },
        {
          "name": "stdout",
          "output_type": "stream",
          "text": [
            "(1, 80000, 1)\n",
            "English\n"
          ]
        }
      ],
      "source": [
        "sr, audio = record(5)\n",
        "audio = pre_process(audio)\n",
        "prediction = model.predict(audio)\n",
        "language = get_language(prediction[0])\n",
        "print(language)"
      ]
    }
  ]
}